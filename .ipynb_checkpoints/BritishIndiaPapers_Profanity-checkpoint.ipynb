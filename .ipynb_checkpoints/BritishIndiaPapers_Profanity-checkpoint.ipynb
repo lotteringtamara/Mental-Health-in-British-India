{
 "cells": [
  {
   "cell_type": "markdown",
   "id": "adapted-summit",
   "metadata": {},
   "source": [
    "# Profanity Check\n",
    "\n",
    "`profanity-check` uses a linear SVM model trained on 200k human-labeled samples of clean and profane text strings. Its model is simple but surprisingly effective, meaning profanity-check is both robust and extremely performant. It does not use a wordlist."
   ]
  },
  {
   "cell_type": "code",
   "execution_count": 3,
   "id": "actual-absolute",
   "metadata": {},
   "outputs": [
    {
     "name": "stdout",
     "output_type": "stream",
     "text": [
      "Collecting profanity-check\n",
      "  Cloning https://github.com/dimitrismistriotis/profanity-check.git to /private/var/folders/38/xz_pc3916rj7pt2dxgpd1sv00000gn/T/pip-install-m7y_e8o7/profanity-check_17fe8e767e3f400981d490d6a0171301\n",
      "Requirement already satisfied: scikit-learn>=0.24.0 in /Users/tashfeen/anaconda3/lib/python3.7/site-packages (from profanity-check) (0.24.0)\n",
      "Requirement already satisfied: joblib>=1.0.0 in /Users/tashfeen/anaconda3/lib/python3.7/site-packages (from profanity-check) (1.0.0)\n",
      "Requirement already satisfied: numpy>=1.13.3 in /Users/tashfeen/anaconda3/lib/python3.7/site-packages (from scikit-learn>=0.24.0->profanity-check) (1.19.2)\n",
      "Requirement already satisfied: scipy>=0.19.1 in /Users/tashfeen/anaconda3/lib/python3.7/site-packages (from scikit-learn>=0.24.0->profanity-check) (1.6.0)\n",
      "Requirement already satisfied: threadpoolctl>=2.0.0 in /Users/tashfeen/anaconda3/lib/python3.7/site-packages (from scikit-learn>=0.24.0->profanity-check) (2.1.0)\n",
      "Building wheels for collected packages: profanity-check\n",
      "  Building wheel for profanity-check (setup.py) ... \u001b[?25ldone\n",
      "\u001b[?25h  Created wheel for profanity-check: filename=profanity_check-1.0.6-py3-none-any.whl size=1865003 sha256=41edc04143d46d0616a4680765155894ab0ce09834542cc8f9bc9aaa484ba0c0\n",
      "  Stored in directory: /private/var/folders/38/xz_pc3916rj7pt2dxgpd1sv00000gn/T/pip-ephem-wheel-cache-ve6lll3q/wheels/86/cf/2c/3b25116b932d31c6c4cbe32c018c19585833d6cfe2b1f76b2b\n",
      "Successfully built profanity-check\n",
      "Installing collected packages: profanity-check\n",
      "Successfully installed profanity-check-1.0.6\n"
     ]
    }
   ],
   "source": [
    "!pip install git+https://github.com/dimitrismistriotis/profanity-check.git#egg=profanity-check"
   ]
  },
  {
   "cell_type": "code",
   "execution_count": 28,
   "id": "least-halloween",
   "metadata": {},
   "outputs": [],
   "source": [
    "import pandas as pd\n",
    "from profanity_check import predict, predict_prob\n",
    "import matplotlib.pyplot as plt"
   ]
  },
  {
   "cell_type": "code",
   "execution_count": 12,
   "id": "molecular-contemporary",
   "metadata": {},
   "outputs": [],
   "source": [
    "# Import dataframe\n",
    "df = pd.read_csv(\"df.csv\") "
   ]
  },
  {
   "cell_type": "code",
   "execution_count": 13,
   "id": "flexible-allergy",
   "metadata": {},
   "outputs": [
    {
     "data": {
      "text/html": [
       "<div>\n",
       "<style scoped>\n",
       "    .dataframe tbody tr th:only-of-type {\n",
       "        vertical-align: middle;\n",
       "    }\n",
       "\n",
       "    .dataframe tbody tr th {\n",
       "        vertical-align: top;\n",
       "    }\n",
       "\n",
       "    .dataframe thead th {\n",
       "        text-align: right;\n",
       "    }\n",
       "</style>\n",
       "<table border=\"1\" class=\"dataframe\">\n",
       "  <thead>\n",
       "    <tr style=\"text-align: right;\">\n",
       "      <th></th>\n",
       "      <th>Unnamed: 0</th>\n",
       "      <th>text</th>\n",
       "    </tr>\n",
       "  </thead>\n",
       "  <tbody>\n",
       "    <tr>\n",
       "      <th>0</th>\n",
       "      <td>0</td>\n",
       "      <td>gtx \\r\\nsi the 110 phi price\\r\\nstatistical re...</td>\n",
       "    </tr>\n",
       "    <tr>\n",
       "      <th>1</th>\n",
       "      <td>1</td>\n",
       "      <td>triennial report of the lunatic asylums under ...</td>\n",
       "    </tr>\n",
       "    <tr>\n",
       "      <th>2</th>\n",
       "      <td>2</td>\n",
       "      <td>report on the lunatic asylums under the govern...</td>\n",
       "    </tr>\n",
       "    <tr>\n",
       "      <th>3</th>\n",
       "      <td>3</td>\n",
       "      <td>indian hemp drugs commission vol vi evidence o...</td>\n",
       "    </tr>\n",
       "    <tr>\n",
       "      <th>4</th>\n",
       "      <td>4</td>\n",
       "      <td>leprosy and its control in the bombay presiden...</td>\n",
       "    </tr>\n",
       "    <tr>\n",
       "      <th>...</th>\n",
       "      <td>...</td>\n",
       "      <td>...</td>\n",
       "    </tr>\n",
       "    <tr>\n",
       "      <th>60</th>\n",
       "      <td>60</td>\n",
       "      <td>9  no 1053 a proceedings of the honble the li...</td>\n",
       "    </tr>\n",
       "    <tr>\n",
       "      <th>61</th>\n",
       "      <td>61</td>\n",
       "      <td>report on the working of the micro biological ...</td>\n",
       "    </tr>\n",
       "    <tr>\n",
       "      <th>62</th>\n",
       "      <td>62</td>\n",
       "      <td>annual administration and progress report on t...</td>\n",
       "    </tr>\n",
       "    <tr>\n",
       "      <th>63</th>\n",
       "      <td>63</td>\n",
       "      <td>annual administration and progress report on t...</td>\n",
       "    </tr>\n",
       "    <tr>\n",
       "      <th>64</th>\n",
       "      <td>64</td>\n",
       "      <td>report on the working of the mental hospitals ...</td>\n",
       "    </tr>\n",
       "  </tbody>\n",
       "</table>\n",
       "<p>65 rows × 2 columns</p>\n",
       "</div>"
      ],
      "text/plain": [
       "    Unnamed: 0                                               text\n",
       "0            0  gtx \\r\\nsi the 110 phi price\\r\\nstatistical re...\n",
       "1            1  triennial report of the lunatic asylums under ...\n",
       "2            2  report on the lunatic asylums under the govern...\n",
       "3            3  indian hemp drugs commission vol vi evidence o...\n",
       "4            4  leprosy and its control in the bombay presiden...\n",
       "..         ...                                                ...\n",
       "60          60   9  no 1053 a proceedings of the honble the li...\n",
       "61          61  report on the working of the micro biological ...\n",
       "62          62  annual administration and progress report on t...\n",
       "63          63  annual administration and progress report on t...\n",
       "64          64  report on the working of the mental hospitals ...\n",
       "\n",
       "[65 rows x 2 columns]"
      ]
     },
     "execution_count": 13,
     "metadata": {},
     "output_type": "execute_result"
    }
   ],
   "source": [
    "df"
   ]
  },
  {
   "cell_type": "code",
   "execution_count": 15,
   "id": "determined-apache",
   "metadata": {},
   "outputs": [],
   "source": [
    "del df['Unnamed: 0']"
   ]
  },
  {
   "cell_type": "code",
   "execution_count": 16,
   "id": "progressive-ownership",
   "metadata": {},
   "outputs": [
    {
     "data": {
      "text/html": [
       "<div>\n",
       "<style scoped>\n",
       "    .dataframe tbody tr th:only-of-type {\n",
       "        vertical-align: middle;\n",
       "    }\n",
       "\n",
       "    .dataframe tbody tr th {\n",
       "        vertical-align: top;\n",
       "    }\n",
       "\n",
       "    .dataframe thead th {\n",
       "        text-align: right;\n",
       "    }\n",
       "</style>\n",
       "<table border=\"1\" class=\"dataframe\">\n",
       "  <thead>\n",
       "    <tr style=\"text-align: right;\">\n",
       "      <th></th>\n",
       "      <th>text</th>\n",
       "    </tr>\n",
       "  </thead>\n",
       "  <tbody>\n",
       "    <tr>\n",
       "      <th>0</th>\n",
       "      <td>gtx \\r\\nsi the 110 phi price\\r\\nstatistical re...</td>\n",
       "    </tr>\n",
       "    <tr>\n",
       "      <th>1</th>\n",
       "      <td>triennial report of the lunatic asylums under ...</td>\n",
       "    </tr>\n",
       "    <tr>\n",
       "      <th>2</th>\n",
       "      <td>report on the lunatic asylums under the govern...</td>\n",
       "    </tr>\n",
       "    <tr>\n",
       "      <th>3</th>\n",
       "      <td>indian hemp drugs commission vol vi evidence o...</td>\n",
       "    </tr>\n",
       "    <tr>\n",
       "      <th>4</th>\n",
       "      <td>leprosy and its control in the bombay presiden...</td>\n",
       "    </tr>\n",
       "    <tr>\n",
       "      <th>...</th>\n",
       "      <td>...</td>\n",
       "    </tr>\n",
       "    <tr>\n",
       "      <th>60</th>\n",
       "      <td>9  no 1053 a proceedings of the honble the li...</td>\n",
       "    </tr>\n",
       "    <tr>\n",
       "      <th>61</th>\n",
       "      <td>report on the working of the micro biological ...</td>\n",
       "    </tr>\n",
       "    <tr>\n",
       "      <th>62</th>\n",
       "      <td>annual administration and progress report on t...</td>\n",
       "    </tr>\n",
       "    <tr>\n",
       "      <th>63</th>\n",
       "      <td>annual administration and progress report on t...</td>\n",
       "    </tr>\n",
       "    <tr>\n",
       "      <th>64</th>\n",
       "      <td>report on the working of the mental hospitals ...</td>\n",
       "    </tr>\n",
       "  </tbody>\n",
       "</table>\n",
       "<p>65 rows × 1 columns</p>\n",
       "</div>"
      ],
      "text/plain": [
       "                                                 text\n",
       "0   gtx \\r\\nsi the 110 phi price\\r\\nstatistical re...\n",
       "1   triennial report of the lunatic asylums under ...\n",
       "2   report on the lunatic asylums under the govern...\n",
       "3   indian hemp drugs commission vol vi evidence o...\n",
       "4   leprosy and its control in the bombay presiden...\n",
       "..                                                ...\n",
       "60   9  no 1053 a proceedings of the honble the li...\n",
       "61  report on the working of the micro biological ...\n",
       "62  annual administration and progress report on t...\n",
       "63  annual administration and progress report on t...\n",
       "64  report on the working of the mental hospitals ...\n",
       "\n",
       "[65 rows x 1 columns]"
      ]
     },
     "execution_count": 16,
     "metadata": {},
     "output_type": "execute_result"
    }
   ],
   "source": [
    "df"
   ]
  },
  {
   "cell_type": "code",
   "execution_count": 21,
   "id": "excellent-aggregate",
   "metadata": {},
   "outputs": [
    {
     "data": {
      "text/plain": [
       "array([0.00624755])"
      ]
     },
     "execution_count": 21,
     "metadata": {},
     "output_type": "execute_result"
    }
   ],
   "source": [
    "predict_prob([df['text'].iloc[0]])"
   ]
  },
  {
   "cell_type": "code",
   "execution_count": 25,
   "id": "arabic-mixer",
   "metadata": {},
   "outputs": [],
   "source": [
    "# function to do the same for all rows\n",
    "def predictProfanity(text):\n",
    "    profanity = predict_prob([text])\n",
    "    return profanity[0]"
   ]
  },
  {
   "cell_type": "code",
   "execution_count": 26,
   "id": "powerful-persian",
   "metadata": {},
   "outputs": [],
   "source": [
    "df['profanity'] = df['text'].apply(predictProfanity)"
   ]
  },
  {
   "cell_type": "code",
   "execution_count": 27,
   "id": "canadian-destiny",
   "metadata": {},
   "outputs": [
    {
     "data": {
      "text/html": [
       "<div>\n",
       "<style scoped>\n",
       "    .dataframe tbody tr th:only-of-type {\n",
       "        vertical-align: middle;\n",
       "    }\n",
       "\n",
       "    .dataframe tbody tr th {\n",
       "        vertical-align: top;\n",
       "    }\n",
       "\n",
       "    .dataframe thead th {\n",
       "        text-align: right;\n",
       "    }\n",
       "</style>\n",
       "<table border=\"1\" class=\"dataframe\">\n",
       "  <thead>\n",
       "    <tr style=\"text-align: right;\">\n",
       "      <th></th>\n",
       "      <th>text</th>\n",
       "      <th>profanity</th>\n",
       "    </tr>\n",
       "  </thead>\n",
       "  <tbody>\n",
       "    <tr>\n",
       "      <th>0</th>\n",
       "      <td>gtx \\r\\nsi the 110 phi price\\r\\nstatistical re...</td>\n",
       "      <td>0.006248</td>\n",
       "    </tr>\n",
       "    <tr>\n",
       "      <th>1</th>\n",
       "      <td>triennial report of the lunatic asylums under ...</td>\n",
       "      <td>0.019258</td>\n",
       "    </tr>\n",
       "    <tr>\n",
       "      <th>2</th>\n",
       "      <td>report on the lunatic asylums under the govern...</td>\n",
       "      <td>0.032013</td>\n",
       "    </tr>\n",
       "    <tr>\n",
       "      <th>3</th>\n",
       "      <td>indian hemp drugs commission vol vi evidence o...</td>\n",
       "      <td>0.000220</td>\n",
       "    </tr>\n",
       "    <tr>\n",
       "      <th>4</th>\n",
       "      <td>leprosy and its control in the bombay presiden...</td>\n",
       "      <td>0.001205</td>\n",
       "    </tr>\n",
       "    <tr>\n",
       "      <th>...</th>\n",
       "      <td>...</td>\n",
       "      <td>...</td>\n",
       "    </tr>\n",
       "    <tr>\n",
       "      <th>60</th>\n",
       "      <td>9  no 1053 a proceedings of the honble the li...</td>\n",
       "      <td>0.000115</td>\n",
       "    </tr>\n",
       "    <tr>\n",
       "      <th>61</th>\n",
       "      <td>report on the working of the micro biological ...</td>\n",
       "      <td>0.002739</td>\n",
       "    </tr>\n",
       "    <tr>\n",
       "      <th>62</th>\n",
       "      <td>annual administration and progress report on t...</td>\n",
       "      <td>0.027619</td>\n",
       "    </tr>\n",
       "    <tr>\n",
       "      <th>63</th>\n",
       "      <td>annual administration and progress report on t...</td>\n",
       "      <td>0.032469</td>\n",
       "    </tr>\n",
       "    <tr>\n",
       "      <th>64</th>\n",
       "      <td>report on the working of the mental hospitals ...</td>\n",
       "      <td>0.029086</td>\n",
       "    </tr>\n",
       "  </tbody>\n",
       "</table>\n",
       "<p>65 rows × 2 columns</p>\n",
       "</div>"
      ],
      "text/plain": [
       "                                                 text  profanity\n",
       "0   gtx \\r\\nsi the 110 phi price\\r\\nstatistical re...   0.006248\n",
       "1   triennial report of the lunatic asylums under ...   0.019258\n",
       "2   report on the lunatic asylums under the govern...   0.032013\n",
       "3   indian hemp drugs commission vol vi evidence o...   0.000220\n",
       "4   leprosy and its control in the bombay presiden...   0.001205\n",
       "..                                                ...        ...\n",
       "60   9  no 1053 a proceedings of the honble the li...   0.000115\n",
       "61  report on the working of the micro biological ...   0.002739\n",
       "62  annual administration and progress report on t...   0.027619\n",
       "63  annual administration and progress report on t...   0.032469\n",
       "64  report on the working of the mental hospitals ...   0.029086\n",
       "\n",
       "[65 rows x 2 columns]"
      ]
     },
     "execution_count": 27,
     "metadata": {},
     "output_type": "execute_result"
    }
   ],
   "source": [
    "df"
   ]
  },
  {
   "cell_type": "code",
   "execution_count": 29,
   "id": "further-ranch",
   "metadata": {},
   "outputs": [
    {
     "data": {
      "image/png": "[encoded data removed]",
      "text/plain": [
       "<Figure size 432x288 with 1 Axes>"
      ]
     },
     "metadata": {
      "needs_background": "light"
     },
     "output_type": "display_data"
    }
   ],
   "source": [
    "ypoints = df['profanity']\n",
    "plt.plot(ypoints)\n",
    "plt.show()"
   ]
  },
  {
   "cell_type": "markdown",
   "id": "pursuant-liabilities",
   "metadata": {},
   "source": [
    "The plot above shows the probability of profanity in the 65 documents related to the main keyword."
   ]
  },
  {
   "cell_type": "code",
   "execution_count": null,
   "id": "responsible-pricing",
   "metadata": {},
   "outputs": [],
   "source": []
  }
 ],
 "metadata": {
  "kernelspec": {
   "display_name": "py377",
   "language": "python",
   "name": "py377"
  },
  "language_info": {
   "codemirror_mode": {
    "name": "ipython",
    "version": 3
   },
   "file_extension": ".py",
   "mimetype": "text/x-python",
   "name": "python",
   "nbconvert_exporter": "python",
   "pygments_lexer": "ipython3",
   "version": "3.7.7"
  }
 },
 "nbformat": 4,
 "nbformat_minor": 5
}
