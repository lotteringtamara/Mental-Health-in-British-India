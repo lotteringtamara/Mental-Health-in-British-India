{
 "cells": [
  {
   "cell_type": "markdown",
   "id": "failing-thermal",
   "metadata": {},
   "source": [
    "# Headline analysis using Spacy!"
   ]
  },
  {
   "cell_type": "code",
   "execution_count": 1,
   "id": "dried-grounds",
   "metadata": {},
   "outputs": [],
   "source": [
    "import spacy\n",
    "import os\n",
    "import pandas as pd\n",
    "import collections\n",
    "import re\n",
    "import seaborn as sns # For graphs\n",
    "from spacy import displacy\n",
    "nlp = spacy.load(\"en_core_web_sm\")"
   ]
  },
  {
   "cell_type": "code",
   "execution_count": 3,
   "id": "eastern-eugene",
   "metadata": {},
   "outputs": [
    {
     "data": {
      "text/html": [
       "<div>\n",
       "<style scoped>\n",
       "    .dataframe tbody tr th:only-of-type {\n",
       "        vertical-align: middle;\n",
       "    }\n",
       "\n",
       "    .dataframe tbody tr th {\n",
       "        vertical-align: top;\n",
       "    }\n",
       "\n",
       "    .dataframe thead th {\n",
       "        text-align: right;\n",
       "    }\n",
       "</style>\n",
       "<table border=\"1\" class=\"dataframe\">\n",
       "  <thead>\n",
       "    <tr style=\"text-align: right;\">\n",
       "      <th></th>\n",
       "      <th>text</th>\n",
       "    </tr>\n",
       "  </thead>\n",
       "  <tbody>\n",
       "    <tr>\n",
       "      <th>0</th>\n",
       "      <td>Distribution and causation of leprosy in Briti...</td>\n",
       "    </tr>\n",
       "    <tr>\n",
       "      <th>1</th>\n",
       "      <td>Report of an outbreak of cholera in Suhutwar, ...</td>\n",
       "    </tr>\n",
       "    <tr>\n",
       "      <th>2</th>\n",
       "      <td>Report of an investigation into the causes of ...</td>\n",
       "    </tr>\n",
       "    <tr>\n",
       "      <th>3</th>\n",
       "      <td>Account of plague administration in the Bombay...</td>\n",
       "    </tr>\n",
       "    <tr>\n",
       "      <th>4</th>\n",
       "      <td>Inquiry into the circumstances attending an ou...</td>\n",
       "    </tr>\n",
       "    <tr>\n",
       "      <th>...</th>\n",
       "      <td>...</td>\n",
       "    </tr>\n",
       "    <tr>\n",
       "      <th>463</th>\n",
       "      <td>Annual vaccination report of Bihar and Orissa ...</td>\n",
       "    </tr>\n",
       "    <tr>\n",
       "      <th>464</th>\n",
       "      <td>Vaccination in Burma 1889-1999 - 1889-1999 - I...</td>\n",
       "    </tr>\n",
       "    <tr>\n",
       "      <th>465</th>\n",
       "      <td>Vaccination in Burma 1900-1911 - 1900-1911 - I...</td>\n",
       "    </tr>\n",
       "    <tr>\n",
       "      <th>466</th>\n",
       "      <td>Vaccination in Burma 1912-1922 - 1912-1922 - I...</td>\n",
       "    </tr>\n",
       "    <tr>\n",
       "      <th>467</th>\n",
       "      <td>Vaccination in Burma 1920-1933 - 1920-1933 - I...</td>\n",
       "    </tr>\n",
       "  </tbody>\n",
       "</table>\n",
       "<p>468 rows × 1 columns</p>\n",
       "</div>"
      ],
      "text/plain": [
       "                                                  text\n",
       "0    Distribution and causation of leprosy in Briti...\n",
       "1    Report of an outbreak of cholera in Suhutwar, ...\n",
       "2    Report of an investigation into the causes of ...\n",
       "3    Account of plague administration in the Bombay...\n",
       "4    Inquiry into the circumstances attending an ou...\n",
       "..                                                 ...\n",
       "463  Annual vaccination report of Bihar and Orissa ...\n",
       "464  Vaccination in Burma 1889-1999 - 1889-1999 - I...\n",
       "465  Vaccination in Burma 1900-1911 - 1900-1911 - I...\n",
       "466  Vaccination in Burma 1912-1922 - 1912-1922 - I...\n",
       "467  Vaccination in Burma 1920-1933 - 1920-1933 - I...\n",
       "\n",
       "[468 rows x 1 columns]"
      ]
     },
     "execution_count": 3,
     "metadata": {},
     "output_type": "execute_result"
    }
   ],
   "source": [
    "df = pd.read_csv('inventory.csv')\n",
    "df"
   ]
  },
  {
   "cell_type": "code",
   "execution_count": 4,
   "id": "sudden-factory",
   "metadata": {},
   "outputs": [],
   "source": [
    "def cleanTextInDf(mystring):\n",
    "    mystring = mystring.lower() # Text normalization: make string lowercase\n",
    "    mystring = re.sub(r'[^\\w\\s]','', mystring) # Text normalization: remove punctuation\n",
    "    return mystring\n",
    "\n",
    "cleanText = lambda text: cleanTextInDf(text) # Lambda function applies to all cells in a column\n",
    "cleandf = pd.DataFrame(df.text.apply(cleanText)) # .apply() the function to all cells\n",
    "df = cleandf"
   ]
  },
  {
   "cell_type": "code",
   "execution_count": 6,
   "id": "confident-thread",
   "metadata": {},
   "outputs": [],
   "source": [
    "def ner(text):\n",
    "    doc=nlp(text)\n",
    "    return [X.label_ for X in doc.ents]\n",
    "ent = df['text'].apply(lambda x : ner(x))\n",
    "ent = [x for sub in ent for x in sub]\n",
    "counter = collections.Counter(ent)\n",
    "count = counter.most_common()"
   ]
  },
  {
   "cell_type": "code",
   "execution_count": 7,
   "id": "automotive-grove",
   "metadata": {},
   "outputs": [
    {
     "data": {
      "text/plain": [
       "<AxesSubplot:>"
      ]
     },
     "execution_count": 7,
     "metadata": {},
     "output_type": "execute_result"
    },
    {
     "data": {
      "image/png": "[encoded data removed]",
      "text/plain": [
       "<Figure size 432x288 with 1 Axes>"
      ]
     },
     "metadata": {
      "needs_background": "light"
     },
     "output_type": "display_data"
    }
   ],
   "source": [
    "x,y = map(list,zip(*count))\n",
    "sns.barplot(x=y,y=x)"
   ]
  },
  {
   "cell_type": "code",
   "execution_count": 10,
   "id": "seven-assurance",
   "metadata": {},
   "outputs": [
    {
     "name": "stderr",
     "output_type": "stream",
     "text": [
      "/Users/tashfeen/anaconda3/lib/python3.7/site-packages/seaborn/_decorators.py:43: FutureWarning: Pass the following variables as keyword args: x, y. From version 0.12, the only valid positional argument will be `data`, and passing other arguments without an explicit keyword will result in an error or misinterpretation.\n",
      "  FutureWarning\n"
     ]
    },
    {
     "data": {
      "text/plain": [
       "<AxesSubplot:>"
      ]
     },
     "execution_count": 10,
     "metadata": {},
     "output_type": "execute_result"
    },
    {
     "data": {
      "image/png": "[encoded data removed]",
      "text/plain": [
       "<Figure size 432x288 with 1 Axes>"
      ]
     },
     "metadata": {
      "needs_background": "light"
     },
     "output_type": "display_data"
    }
   ],
   "source": [
    "def nerGEO(text,ent=\"GPE\"):\n",
    "    doc=nlp(text)\n",
    "    return [X.text for X in doc.ents if X.label_ == ent]\n",
    "\n",
    "gpe = df['text'].apply(lambda x: nerGEO(x))\n",
    "gpe = [i for x in gpe for i in x]\n",
    "counter = collections.Counter(gpe)\n",
    "x,y = map(list,zip(*counter.most_common(10)))\n",
    "sns.barplot(y,x)"
   ]
  },
  {
   "cell_type": "code",
   "execution_count": null,
   "id": "paperback-brazil",
   "metadata": {},
   "outputs": [],
   "source": []
  }
 ],
 "metadata": {
  "kernelspec": {
   "display_name": "py377",
   "language": "python",
   "name": "py377"
  },
  "language_info": {
   "codemirror_mode": {
    "name": "ipython",
    "version": 3
   },
   "file_extension": ".py",
   "mimetype": "text/x-python",
   "name": "python",
   "nbconvert_exporter": "python",
   "pygments_lexer": "ipython3",
   "version": "3.7.7"
  }
 },
 "nbformat": 4,
 "nbformat_minor": 5
}
