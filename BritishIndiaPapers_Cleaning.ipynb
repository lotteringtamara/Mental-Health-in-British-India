{
 "cells": [
  {
   "cell_type": "markdown",
   "id": "chief-tradition",
   "metadata": {},
   "source": [
    "## Cleaning text files\n",
    "\n",
    "In order to focus on the main keyword (or set of keywords), this notebook goes through the following steps:\n",
    "\n",
    "1. Open files and create a pandas dataframe.\n",
    "2. Filter rows based on specific set of keywords.\n",
    "3. Run a spell check and correct words. This will only be useful if it doesn't change specific words like location names.\n",
    "4. Lowercase words.\n",
    "5. Export dataframe to csv for future data exploration."
   ]
  },
  {
   "cell_type": "code",
   "execution_count": 20,
   "id": "soviet-progressive",
   "metadata": {},
   "outputs": [],
   "source": [
    "import os # File manipulation\n",
    "import pandas as pd # For dataframe operations\n",
    "import numpy as np\n",
    "from collections import Counter # to count word occurance\n",
    "import re # Regix to remove punctuation from strings I split\n",
    "from autocorrect import Speller # spell checker for an alternative df"
   ]
  },
  {
   "cell_type": "code",
   "execution_count": 17,
   "id": "sporting-marketplace",
   "metadata": {},
   "outputs": [],
   "source": [
    "# Modify this list to add keywords 🧚\n",
    "keywords = ['lunatic', 'asylum']"
   ]
  },
  {
   "cell_type": "code",
   "execution_count": 3,
   "id": "elect-profit",
   "metadata": {},
   "outputs": [
    {
     "data": {
      "text/html": [
       "<div>\n",
       "<style scoped>\n",
       "    .dataframe tbody tr th:only-of-type {\n",
       "        vertical-align: middle;\n",
       "    }\n",
       "\n",
       "    .dataframe tbody tr th {\n",
       "        vertical-align: top;\n",
       "    }\n",
       "\n",
       "    .dataframe thead th {\n",
       "        text-align: right;\n",
       "    }\n",
       "</style>\n",
       "<table border=\"1\" class=\"dataframe\">\n",
       "  <thead>\n",
       "    <tr style=\"text-align: right;\">\n",
       "      <th></th>\n",
       "      <th>text</th>\n",
       "    </tr>\n",
       "  </thead>\n",
       "  <tbody>\n",
       "    <tr>\n",
       "      <th>0</th>\n",
       "      <td>IP/QB.10 m.91.b. No. 44. (NEW SERIES.) SCIENTI...</td>\n",
       "    </tr>\n",
       "    <tr>\n",
       "      <th>1</th>\n",
       "      <td>IP/6/HG.s4. REPORT ON THE CALCUTTA MEDICAL INS...</td>\n",
       "    </tr>\n",
       "    <tr>\n",
       "      <th>2</th>\n",
       "      <td>CHOLERA IN INDIA, 1862 TO 1881. BENGAL PROVINC...</td>\n",
       "    </tr>\n",
       "    <tr>\n",
       "      <th>3</th>\n",
       "      <td>Vol. I 1931 THE Indian Journal of Veterinary S...</td>\n",
       "    </tr>\n",
       "    <tr>\n",
       "      <th>4</th>\n",
       "      <td>IP/QB, 10 m.91.b No. 19. (NEW SERIES.) SCIENTI...</td>\n",
       "    </tr>\n",
       "    <tr>\n",
       "      <th>...</th>\n",
       "      <td>...</td>\n",
       "    </tr>\n",
       "    <tr>\n",
       "      <th>463</th>\n",
       "      <td>[NLS note: a graphic appears here - see image ...</td>\n",
       "    </tr>\n",
       "    <tr>\n",
       "      <th>464</th>\n",
       "      <td>REPORT ON THE WORKING OF THE MENTAL HOSPITALS ...</td>\n",
       "    </tr>\n",
       "    <tr>\n",
       "      <th>465</th>\n",
       "      <td>ICAR. 15. VIII. 650 Vol. VIII 1938 THE Indian ...</td>\n",
       "    </tr>\n",
       "    <tr>\n",
       "      <th>466</th>\n",
       "      <td>SLEEPING SICKNESS A SUMMARY OF THE WORK DONE B...</td>\n",
       "    </tr>\n",
       "    <tr>\n",
       "      <th>467</th>\n",
       "      <td>[NLS note: a graphic appears here - see image ...</td>\n",
       "    </tr>\n",
       "  </tbody>\n",
       "</table>\n",
       "<p>468 rows × 1 columns</p>\n",
       "</div>"
      ],
      "text/plain": [
       "                                                  text\n",
       "0    IP/QB.10 m.91.b. No. 44. (NEW SERIES.) SCIENTI...\n",
       "1    IP/6/HG.s4. REPORT ON THE CALCUTTA MEDICAL INS...\n",
       "2    CHOLERA IN INDIA, 1862 TO 1881. BENGAL PROVINC...\n",
       "3    Vol. I 1931 THE Indian Journal of Veterinary S...\n",
       "4    IP/QB, 10 m.91.b No. 19. (NEW SERIES.) SCIENTI...\n",
       "..                                                 ...\n",
       "463  [NLS note: a graphic appears here - see image ...\n",
       "464  REPORT ON THE WORKING OF THE MENTAL HOSPITALS ...\n",
       "465  ICAR. 15. VIII. 650 Vol. VIII 1938 THE Indian ...\n",
       "466  SLEEPING SICKNESS A SUMMARY OF THE WORK DONE B...\n",
       "467  [NLS note: a graphic appears here - see image ...\n",
       "\n",
       "[468 rows x 1 columns]"
      ]
     },
     "execution_count": 3,
     "metadata": {},
     "output_type": "execute_result"
    }
   ],
   "source": [
    "# walk through the /data folder and read text files to make a df\n",
    "textList = []\n",
    "for dirname, _, filenames in os.walk('./data'):\n",
    "    for filename in filenames:\n",
    "        # print(os.path.join(dirname, filename))\n",
    "        myfile = os.path.join(dirname, filename)\n",
    "        with open(myfile, 'rb') as fopen:\n",
    "            q = fopen.read().decode('ISO-8859-1')\n",
    "            textList.append(q)\n",
    "uncleanDf = pd.DataFrame(textList)\n",
    "uncleanDf.columns = ['text']\n",
    "uncleanDf"
   ]
  },
  {
   "cell_type": "code",
   "execution_count": 18,
   "id": "express-layer",
   "metadata": {},
   "outputs": [],
   "source": [
    "# Initial cleaning\n",
    "def initialCleaning(mystring):\n",
    "    mystring = mystring.lower() # Text normalization: make string lowercase\n",
    "    mystring = re.sub(r'[^\\w\\s]','', mystring) # Text normalization: remove punctuation\n",
    "    return mystring\n",
    "\n",
    "def countWords(string, wordsToCount):\n",
    "    splitString = string.split() # Split string into array of words\n",
    "    counts = Counter(splitString) # Get counts for each word like Counter({'dogs': 3, 'cute': 1})\n",
    "    count = 0 # Start the counter\n",
    "    for word in wordsToCount: # Loop through list of words and add the count\n",
    "        count = count + counts[word]\n",
    "    return count"
   ]
  },
  {
   "cell_type": "code",
   "execution_count": 13,
   "id": "blessed-camera",
   "metadata": {},
   "outputs": [],
   "source": [
    "cleanText = lambda text: initialCleaning(text) # Lambda function applies to all cells in a column\n",
    "cleanDf = pd.DataFrame(uncleanDf.text.apply(cleanText)) # .apply() the function to all cells"
   ]
  },
  {
   "cell_type": "code",
   "execution_count": 14,
   "id": "correct-prague",
   "metadata": {},
   "outputs": [
    {
     "data": {
      "text/html": [
       "<div>\n",
       "<style scoped>\n",
       "    .dataframe tbody tr th:only-of-type {\n",
       "        vertical-align: middle;\n",
       "    }\n",
       "\n",
       "    .dataframe tbody tr th {\n",
       "        vertical-align: top;\n",
       "    }\n",
       "\n",
       "    .dataframe thead th {\n",
       "        text-align: right;\n",
       "    }\n",
       "</style>\n",
       "<table border=\"1\" class=\"dataframe\">\n",
       "  <thead>\n",
       "    <tr style=\"text-align: right;\">\n",
       "      <th></th>\n",
       "      <th>text</th>\n",
       "    </tr>\n",
       "  </thead>\n",
       "  <tbody>\n",
       "    <tr>\n",
       "      <th>0</th>\n",
       "      <td>ipqb10 m91b no 44 new series scientific memoir...</td>\n",
       "    </tr>\n",
       "    <tr>\n",
       "      <th>1</th>\n",
       "      <td>ip6hgs4 report on the calcutta medical institu...</td>\n",
       "    </tr>\n",
       "    <tr>\n",
       "      <th>2</th>\n",
       "      <td>cholera in india 1862 to 1881 bengal province ...</td>\n",
       "    </tr>\n",
       "    <tr>\n",
       "      <th>3</th>\n",
       "      <td>vol i 1931 the indian journal of veterinary sc...</td>\n",
       "    </tr>\n",
       "    <tr>\n",
       "      <th>4</th>\n",
       "      <td>ipqb 10 m91b no 19 new series scientific memoi...</td>\n",
       "    </tr>\n",
       "    <tr>\n",
       "      <th>...</th>\n",
       "      <td>...</td>\n",
       "    </tr>\n",
       "    <tr>\n",
       "      <th>463</th>\n",
       "      <td>nls note a graphic appears here  see image of ...</td>\n",
       "    </tr>\n",
       "    <tr>\n",
       "      <th>464</th>\n",
       "      <td>report on the working of the mental hospitals ...</td>\n",
       "    </tr>\n",
       "    <tr>\n",
       "      <th>465</th>\n",
       "      <td>icar 15 viii 650 vol viii 1938 the indian jour...</td>\n",
       "    </tr>\n",
       "    <tr>\n",
       "      <th>466</th>\n",
       "      <td>sleeping sickness a summary of the work done b...</td>\n",
       "    </tr>\n",
       "    <tr>\n",
       "      <th>467</th>\n",
       "      <td>nls note a graphic appears here  see image of ...</td>\n",
       "    </tr>\n",
       "  </tbody>\n",
       "</table>\n",
       "<p>468 rows × 1 columns</p>\n",
       "</div>"
      ],
      "text/plain": [
       "                                                  text\n",
       "0    ipqb10 m91b no 44 new series scientific memoir...\n",
       "1    ip6hgs4 report on the calcutta medical institu...\n",
       "2    cholera in india 1862 to 1881 bengal province ...\n",
       "3    vol i 1931 the indian journal of veterinary sc...\n",
       "4    ipqb 10 m91b no 19 new series scientific memoi...\n",
       "..                                                 ...\n",
       "463  nls note a graphic appears here  see image of ...\n",
       "464  report on the working of the mental hospitals ...\n",
       "465  icar 15 viii 650 vol viii 1938 the indian jour...\n",
       "466  sleeping sickness a summary of the work done b...\n",
       "467  nls note a graphic appears here  see image of ...\n",
       "\n",
       "[468 rows x 1 columns]"
      ]
     },
     "execution_count": 14,
     "metadata": {},
     "output_type": "execute_result"
    }
   ],
   "source": [
    "cleanDf"
   ]
  },
  {
   "cell_type": "code",
   "execution_count": 31,
   "id": "adequate-accuracy",
   "metadata": {},
   "outputs": [],
   "source": [
    "cleanerDfList = []\n",
    "for index, row in cleanDf.iterrows():\n",
    "    count = countWords(cleanDf['text'].iloc[index], keywords)\n",
    "    if(count>4):\n",
    "        cleanerDfList.append(cleanDf['text'].iloc[index])"
   ]
  },
  {
   "cell_type": "code",
   "execution_count": 34,
   "id": "auburn-badge",
   "metadata": {},
   "outputs": [
    {
     "data": {
      "text/html": [
       "<div>\n",
       "<style scoped>\n",
       "    .dataframe tbody tr th:only-of-type {\n",
       "        vertical-align: middle;\n",
       "    }\n",
       "\n",
       "    .dataframe tbody tr th {\n",
       "        vertical-align: top;\n",
       "    }\n",
       "\n",
       "    .dataframe thead th {\n",
       "        text-align: right;\n",
       "    }\n",
       "</style>\n",
       "<table border=\"1\" class=\"dataframe\">\n",
       "  <thead>\n",
       "    <tr style=\"text-align: right;\">\n",
       "      <th></th>\n",
       "      <th>text</th>\n",
       "    </tr>\n",
       "  </thead>\n",
       "  <tbody>\n",
       "    <tr>\n",
       "      <th>0</th>\n",
       "      <td>gtx \\r\\nsi the 110 phi price\\r\\nstatistical re...</td>\n",
       "    </tr>\n",
       "    <tr>\n",
       "      <th>1</th>\n",
       "      <td>triennial report of the lunatic asylums under ...</td>\n",
       "    </tr>\n",
       "    <tr>\n",
       "      <th>2</th>\n",
       "      <td>report on the lunatic asylums under the govern...</td>\n",
       "    </tr>\n",
       "    <tr>\n",
       "      <th>3</th>\n",
       "      <td>indian hemp drugs commission vol vi evidence o...</td>\n",
       "    </tr>\n",
       "    <tr>\n",
       "      <th>4</th>\n",
       "      <td>leprosy and its control in the bombay presiden...</td>\n",
       "    </tr>\n",
       "    <tr>\n",
       "      <th>...</th>\n",
       "      <td>...</td>\n",
       "    </tr>\n",
       "    <tr>\n",
       "      <th>60</th>\n",
       "      <td>9  no 1053 a proceedings of the honble the li...</td>\n",
       "    </tr>\n",
       "    <tr>\n",
       "      <th>61</th>\n",
       "      <td>report on the working of the micro biological ...</td>\n",
       "    </tr>\n",
       "    <tr>\n",
       "      <th>62</th>\n",
       "      <td>annual administration and progress report on t...</td>\n",
       "    </tr>\n",
       "    <tr>\n",
       "      <th>63</th>\n",
       "      <td>annual administration and progress report on t...</td>\n",
       "    </tr>\n",
       "    <tr>\n",
       "      <th>64</th>\n",
       "      <td>report on the working of the mental hospitals ...</td>\n",
       "    </tr>\n",
       "  </tbody>\n",
       "</table>\n",
       "<p>65 rows × 1 columns</p>\n",
       "</div>"
      ],
      "text/plain": [
       "                                                 text\n",
       "0   gtx \\r\\nsi the 110 phi price\\r\\nstatistical re...\n",
       "1   triennial report of the lunatic asylums under ...\n",
       "2   report on the lunatic asylums under the govern...\n",
       "3   indian hemp drugs commission vol vi evidence o...\n",
       "4   leprosy and its control in the bombay presiden...\n",
       "..                                                ...\n",
       "60   9  no 1053 a proceedings of the honble the li...\n",
       "61  report on the working of the micro biological ...\n",
       "62  annual administration and progress report on t...\n",
       "63  annual administration and progress report on t...\n",
       "64  report on the working of the mental hospitals ...\n",
       "\n",
       "[65 rows x 1 columns]"
      ]
     },
     "execution_count": 34,
     "metadata": {},
     "output_type": "execute_result"
    }
   ],
   "source": [
    "cleanerDf = pd.DataFrame(cleanerDfList)\n",
    "cleanerDf.columns = ['text']\n",
    "cleanerDf"
   ]
  },
  {
   "cell_type": "code",
   "execution_count": 44,
   "id": "turkish-blank",
   "metadata": {},
   "outputs": [
    {
     "name": "stdout",
     "output_type": "stream",
     "text": [
      "Collecting pyspellchecker\n",
      "  Downloading pyspellchecker-0.5.6-py2.py3-none-any.whl (2.5 MB)\n",
      "\u001b[K     |████████████████████████████████| 2.5 MB 4.6 MB/s eta 0:00:01\n",
      "\u001b[?25hInstalling collected packages: pyspellchecker\n",
      "Successfully installed pyspellchecker-0.5.6\n"
     ]
    }
   ],
   "source": [
    "!pip install pyspellchecker"
   ]
  },
  {
   "cell_type": "code",
   "execution_count": 50,
   "id": "interested-function",
   "metadata": {},
   "outputs": [],
   "source": [
    "spell = Speller(lang=\"en\")\n",
    "WORD = re.compile(r'\\w+')\n",
    "\n",
    "def reTokenize(doc):\n",
    "    tokens = WORD.findall(doc)\n",
    "    return tokens\n",
    "\n",
    "def spell_correct(text):\n",
    "    return ' '.join([spell(w).lower() for w in reTokenize(text)])"
   ]
  },
  {
   "cell_type": "code",
   "execution_count": null,
   "id": "pleasant-secondary",
   "metadata": {},
   "outputs": [],
   "source": [
    "scText = lambda text: spell_correct(text) # Lambda function applies to all cells in a column\n",
    "scDf = pd.DataFrame(cleanerDf.text.apply(scText)) # .apply() the function to all cells"
   ]
  },
  {
   "cell_type": "code",
   "execution_count": null,
   "id": "varying-disabled",
   "metadata": {},
   "outputs": [],
   "source": [
    "scDf"
   ]
  },
  {
   "cell_type": "markdown",
   "id": "institutional-things",
   "metadata": {},
   "source": [
    "## Cleaned Exports\n",
    "\n",
    "We have two cleaned dataframes here:\n",
    "\n",
    "1. `cleanerDf` refers to the clean dataframe that includes all documents that contain the main keywords with all text in lowercase and punctuation removed.\n",
    "2. `scDf` is same as `cleanerDf` but in this case the spell checker has fixed spelling mistakes. NOTE: USE WITH CAUTION. THIS DF MIGHT HAVE WRONG LOCATION NAMES AND LOCAL TERMINOLOGY."
   ]
  },
  {
   "cell_type": "code",
   "execution_count": null,
   "id": "cosmetic-harbor",
   "metadata": {},
   "outputs": [],
   "source": [
    "scDf.to_csv('df-spellcorrected.csv') # Not recommended for use  but we can use this when words don't make sense 🧚\n",
    "cleanerDf.to_csv('df.csv')"
   ]
  }
 ],
 "metadata": {
  "kernelspec": {
   "display_name": "py377",
   "language": "python",
   "name": "py377"
  },
  "language_info": {
   "codemirror_mode": {
    "name": "ipython",
    "version": 3
   },
   "file_extension": ".py",
   "mimetype": "text/x-python",
   "name": "python",
   "nbconvert_exporter": "python",
   "pygments_lexer": "ipython3",
   "version": "3.7.7"
  }
 },
 "nbformat": 4,
 "nbformat_minor": 5
}
